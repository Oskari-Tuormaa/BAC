{
 "cells": [
  {
   "cell_type": "markdown",
   "id": "3012f32a-a8ee-44bc-b58e-c3c0890f0793",
   "metadata": {},
   "source": [
    "# Evaluating the linearity of the exponential BP - arterial cross section model"
   ]
  },
  {
   "cell_type": "code",
   "execution_count": 1,
   "id": "494c2a28-27a2-406d-9223-d7eb5d42da9a",
   "metadata": {},
   "outputs": [],
   "source": [
    "import matplotlib.pyplot as plt\n",
    "import numpy as np\n",
    "from IPython.display import Latex\n",
    "import pint\n",
    "ureg = pint.UnitRegistry()\n",
    "plt.rcParams[\"figure.autolayout\"] = True"
   ]
  },
  {
   "cell_type": "markdown",
   "id": "8c7d5d11-13ce-4dfd-b481-01ef2713efb7",
   "metadata": {},
   "source": [
    "Given the exponential BP - artial cross section model:"
   ]
  },
  {
   "cell_type": "markdown",
   "id": "a44e216e-1d8c-4e80-a1d0-3672f3b1dd71",
   "metadata": {},
   "source": [
    "$$ P(t) = P_d \\cdot e^{\\alpha \\left( \\frac{A(t)}{A_d} - 1 \\right)} $$\n",
    "\n",
    "$$ \\alpha = \\frac{ A_d \\cdot \\ln \\left(\\frac{P_s}{P_d} \\right)}{A_s - A_d} $$"
   ]
  },
  {
   "cell_type": "markdown",
   "id": "1cefe05f-44e7-490a-a0de-ecb43bda8ba3",
   "metadata": {},
   "source": [
    "Where $P(t)$ is the blood pressure at arterial cross section $A(t)$, $P_d$ and $P_s$ are the diastolic and systolic blood pressure levels and $A_d$ and $A_s$ are the diastolic and systolic cross sections."
   ]
  },
  {
   "cell_type": "markdown",
   "id": "5aa3106d-4ea7-43c5-b590-3e73a639e82b",
   "metadata": {},
   "source": [
    "Assuming that the artery is rotationally symmetric, the cross sections can be expressed in terms of the diameter by the formula: $A(t) = \\frac{\\pi d^2(t)}{4}$. Substituting the expression for $\\alpha$ into the expression for $P(t)$, and simplifying the left and right side, the following expression can be reached:"
   ]
  },
  {
   "cell_type": "markdown",
   "id": "f6b3267d-2154-4e99-b2b8-ddb859510841",
   "metadata": {},
   "source": [
    "$$ \\frac{ \\ln ( P(t) / P_d )}{ \\ln ( P_s / P_d )} = \\frac{d^2(t) - d^2_d}{d^2_s - d^2_d} $$"
   ]
  },
  {
   "cell_type": "markdown",
   "id": "709a4398-9021-4a53-aec2-f936bd3e1dec",
   "metadata": {},
   "source": [
    "Showing a logarithmic relationship between the blood pressures and an exponential relationship between the diameters (resulting from the linear relationship between the cross sections)."
   ]
  },
  {
   "cell_type": "markdown",
   "id": "9350fe0f-4e64-4c03-8b6a-da4098829324",
   "metadata": {},
   "source": [
    "Plotting the logarithmic relationship, given a linear increase in $P(t)$ results in the following graph, showing the distortion:"
   ]
  },
  {
   "cell_type": "code",
   "execution_count": 2,
   "id": "72c8c9f5-de54-4fa6-8994-81461e70032e",
   "metadata": {},
   "outputs": [
    {
     "name": "stderr",
     "output_type": "stream",
     "text": [
      "The PostScript backend does not support transparency; partially transparent artists will be rendered opaque.\n",
      "The PostScript backend does not support transparency; partially transparent artists will be rendered opaque.\n"
     ]
    },
    {
     "data": {
      "image/png": "[encoded data removed]",
      "text/plain": [
       "<Figure size 504x252 with 1 Axes>"
      ]
     },
     "metadata": {
      "needs_background": "light"
     },
     "output_type": "display_data"
    }
   ],
   "source": [
    "# Values taken from:\n",
    "# \"Normal values for ambulatory blood pressure and\n",
    "# differences between casual blood pressure and\n",
    "# ambulatory blood pressure\"\n",
    "PS = 129.6 * ureg.mmHg\n",
    "PD = 82.6 * ureg.mmHg\n",
    "\n",
    "t = np.linspace(0, 1, 100)\n",
    "Pt = PD + t * (PS - PD)\n",
    "\n",
    "Pratlog = np.log(Pt / PD) / np.log(PS / PD)\n",
    "Pratlin =       (Pt - PD) /       (PS - PD)\n",
    "Pratexp =       (Pt**2 - PD**2) /       (PS**2 - PD**2)\n",
    "\n",
    "plt.figure(figsize=(7,3.5))\n",
    "plt.plot(Pt.magnitude, Pratlog.magnitude, label=\"Log.\", c=\"green\")\n",
    "plt.plot(Pt.magnitude, Pratexp.magnitude, label=\"Exp.\", c=\"orange\")\n",
    "plt.plot(Pt.magnitude, Pratlin.magnitude, label=\"Lin.\", c=\"black\")\n",
    "plt.axvline(PS.magnitude, ls=\":\", c=\"blue\", label=fr\"$P_s \\approx {PS:L~}$\")\n",
    "plt.axvline(PD.magnitude, ls=\":\", c=\"red\", label=fr\"$P_d \\approx {PD:L~}$\")\n",
    "plt.legend()\n",
    "plt.grid()\n",
    "plt.xlabel(r\"$P(t)$ [mmHg]\")\n",
    "plt.savefig(\"linearity.eps\")"
   ]
  },
  {
   "cell_type": "markdown",
   "id": "6ad19bff-0531-48bc-afae-431dc380fd38",
   "metadata": {},
   "source": [
    "# Estimating expansion of the frontal branch of the superficial temporal artery"
   ]
  },
  {
   "cell_type": "markdown",
   "id": "0258f45a-a333-42db-94a3-599bd719d5a9",
   "metadata": {},
   "source": [
    "From \"*Noninvasive and Nonocclusive Blood Pressure Monitoring via a Flexible Piezo-Composite Ultrasonic Sensor*\", a graph can be found measuring the diameter of the Ulnar artery over time, showing the highs, lows and mean:"
   ]
  },
  {
   "cell_type": "markdown",
   "id": "861fddcb-7b3c-4d7e-b6b4-5d0546c33d5c",
   "metadata": {},
   "source": [
    "$$ d_{s,ulnar} \\approx 2.90 \\text{ mm} \\quad d_{d,ulnar} \\approx 2.25 \\text{ mm} \\quad \\overline d_{ulnar} \\approx 2.56 \\text{ mm} $$"
   ]
  },
  {
   "cell_type": "markdown",
   "id": "5c6d68f5-6bdb-4313-b494-8bb391a9fe20",
   "metadata": {},
   "source": [
    "Assuming that the relative expansion scales with the diameter of the artery, this range can be remapped to give an estimate of $d_{s,STA}$ and $d_{d,STA}$, where STA stands for Superficial Temporal Artery. The appoximate diameter of the STA has been found in \"*In vivo analysis of the vascular pattern of the superficial temporal artery based on digital subtraction angiography*\" to be around $\\overline d_{STA} \\approx 1.3 \\text{ mm}$. "
   ]
  },
  {
   "cell_type": "code",
   "execution_count": 4,
   "id": "00071a4a-ae55-422a-a669-0cd0ccc62933",
   "metadata": {},
   "outputs": [
    {
     "data": {
      "text/html": [
       "0.5078125 dimensionless"
      ],
      "text/latex": [
       "$0.5078125\\ dimensionless$"
      ],
      "text/plain": [
       "0.5078125 <Unit('dimensionless')>"
      ]
     },
     "execution_count": 4,
     "metadata": {},
     "output_type": "execute_result"
    }
   ],
   "source": [
    "k"
   ]
  },
  {
   "cell_type": "code",
   "execution_count": 3,
   "id": "59007e2b-fab8-458e-8384-37dc5b70b4c5",
   "metadata": {},
   "outputs": [
    {
     "data": {
      "text/latex": [
       "$d_{s,STA} \\approx 1.5\\ \\mathrm{mm}$"
      ],
      "text/plain": [
       "<IPython.core.display.Latex object>"
      ]
     },
     "metadata": {},
     "output_type": "display_data"
    },
    {
     "data": {
      "text/latex": [
       "$d_{d,STA} \\approx 1.1\\ \\mathrm{mm}$"
      ],
      "text/plain": [
       "<IPython.core.display.Latex object>"
      ]
     },
     "metadata": {},
     "output_type": "display_data"
    },
    {
     "data": {
      "text/latex": [
       "$\\Delta d_{STA} \\approx 0.33\\ \\mathrm{mm}$"
      ],
      "text/plain": [
       "<IPython.core.display.Latex object>"
      ]
     },
     "metadata": {},
     "output_type": "display_data"
    }
   ],
   "source": [
    "# Known values\n",
    "d_s_ulnar = 2.90 * ureg.mm\n",
    "d_d_ulnar = 2.25 * ureg.mm\n",
    "d_ulnar   = 2.56 * ureg.mm\n",
    "d_sta     = 1.30 * ureg.mm\n",
    "\n",
    "# Diameter scaling factor\n",
    "k = d_sta / d_ulnar\n",
    "\n",
    "# Estimated values for STA\n",
    "d_s_sta = d_s_ulnar * k\n",
    "d_d_sta = d_d_ulnar * k\n",
    "\n",
    "# Display results\n",
    "display(Latex(fr\"$d_{{s,STA}} \\approx {d_s_sta:.2L~}$\"))\n",
    "display(Latex(fr\"$d_{{d,STA}} \\approx {d_d_sta:.2L~}$\"))\n",
    "display(Latex(fr\"$\\Delta d_{{STA}} \\approx {d_s_sta - d_d_sta:.2L~}$\"))"
   ]
  }
 ],
 "metadata": {
  "kernelspec": {
   "display_name": "Python 3 (ipykernel)",
   "language": "python",
   "name": "python3"
  },
  "language_info": {
   "codemirror_mode": {
    "name": "ipython",
    "version": 3
   },
   "file_extension": ".py",
   "mimetype": "text/x-python",
   "name": "python",
   "nbconvert_exporter": "python",
   "pygments_lexer": "ipython3",
   "version": "3.9.6"
  }
 },
 "nbformat": 4,
 "nbformat_minor": 5
}
