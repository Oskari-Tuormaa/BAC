{
 "cells": [
  {
   "cell_type": "code",
   "execution_count": 1,
   "id": "d8277b9f-f161-4140-b0c3-d565abae6ccf",
   "metadata": {},
   "outputs": [],
   "source": [
    "import pydwf\n",
    "import pydwf.utilities\n",
    "import numpy as np\n",
    "import matplotlib.pyplot as plt\n",
    "import time\n",
    "import serial\n",
    "import datetime\n",
    "import json\n",
    "from pathlib import Path\n",
    "\n",
    "%matplotlib widget"
   ]
  },
  {
   "cell_type": "markdown",
   "id": "f00c49f6-ac6d-4638-b9f2-656af1d961b6",
   "metadata": {},
   "source": [
    "# Open AD2 Device"
   ]
  },
  {
   "cell_type": "code",
   "execution_count": 2,
   "id": "690a8f33-3cbc-4b66-b80c-d367a6c20acc",
   "metadata": {},
   "outputs": [],
   "source": [
    "def scorefunc(x):\n",
    "    return x[pydwf.DwfEnumConfigInfo.AnalogInBufferSize]\n",
    "\n",
    "dwf = pydwf.DwfLibrary()\n",
    "dev = pydwf.utilities.openDwfDevice(dwf,\n",
    "    score_func=scorefunc\n",
    ")"
   ]
  },
  {
   "cell_type": "markdown",
   "id": "48165924-168c-4e8b-b311-67d2d07162ca",
   "metadata": {
    "tags": []
   },
   "source": [
    "# Setup AD2"
   ]
  },
  {
   "cell_type": "markdown",
   "id": "d092353a-dcd3-4911-a7bf-007de199840a",
   "metadata": {},
   "source": [
    "## Setup Input"
   ]
  },
  {
   "cell_type": "code",
   "execution_count": 134,
   "id": "78d8e742-baa8-4f01-a1e3-e5636217b4a7",
   "metadata": {},
   "outputs": [],
   "source": [
    "inCH = [0, 1]\n",
    "inFreq = 1e6\n",
    "inRecordLen = 10e-3\n",
    "inNSamples = int(inFreq * inRecordLen)\n",
    "\n",
    "anIn = dev.analogIn\n",
    "anIn.reset()\n",
    "for CH in inCH:\n",
    "    anIn.channelEnableSet(CH, True)\n",
    "    \n",
    "anIn.channelRangeSet(0, 3.5)\n",
    "anIn.channelOffsetSet(0, 1.65)\n",
    "    \n",
    "anIn.channelRangeSet(0, 30)\n",
    "anIn.channelOffsetSet(0, 0)\n",
    "\n",
    "anIn.acquisitionModeSet(pydwf.DwfAcquisitionMode.Record)\n",
    "anIn.frequencySet(inFreq)\n",
    "anIn.recordLengthSet(inRecordLen)\n",
    "anIn.triggerSourceSet(pydwf.DwfTriggerSource.PC)\n",
    "time.sleep(1)"
   ]
  },
  {
   "cell_type": "markdown",
   "id": "ccaca4df-ca77-4372-baba-e5374403dfee",
   "metadata": {},
   "source": [
    "## Setup Supply"
   ]
  },
  {
   "cell_type": "code",
   "execution_count": 4,
   "id": "de5d8abe-2123-40f2-9c36-c131044c2474",
   "metadata": {},
   "outputs": [],
   "source": [
    "supplyV = 3.3\n",
    "\n",
    "anIO = dev.analogIO\n",
    "anIO.reset()\n",
    "anIO.enableSet(True)\n",
    "anIO.channelNodeSet(0, 0, True) # Enable positive supply\n",
    "anIO.channelNodeSet(0, 1, supplyV) # Set positive supply voltage\n",
    "anIO.configure()"
   ]
  },
  {
   "cell_type": "markdown",
   "id": "6cbb21c1-f244-4b79-907d-ae55273d7f31",
   "metadata": {},
   "source": [
    "# Read data"
   ]
  },
  {
   "cell_type": "code",
   "execution_count": null,
   "id": "954d6402-474b-4145-b4e9-be3a4818c099",
   "metadata": {},
   "outputs": [],
   "source": [
    "with serial.Serial(\"/dev/ttyUSB0\", 115200, timeout=1) as ser:\n",
    "    while True:\n",
    "        ser.write(b'p')\n",
    "        time.sleep(1)"
   ]
  },
  {
   "cell_type": "code",
   "execution_count": 143,
   "id": "c0362783-3815-47b2-a7f1-4085254f344c",
   "metadata": {},
   "outputs": [
    {
     "name": "stdout",
     "output_type": "stream",
     "text": [
      "\u001b[K  99:  259.59% 16384     25959"
     ]
    }
   ],
   "source": [
    "now = datetime.datetime.now()\n",
    "dist = 107.46\n",
    "outpath = Path(\"data\", \"20v\", \"short_v2\", f\"{dist:.2f}cm_{now:%y%m%d-%H%M%S}.json\")\n",
    "outpath.parent.mkdir(exist_ok=True, parents=True)\n",
    "data = {\n",
    "    \"fs\": inFreq,\n",
    "    \"dist\": dist,\n",
    "    \"data\": [],\n",
    "}\n",
    "\n",
    "for i in range(100):\n",
    "    ser = serial.Serial(\"/dev/ttyUSB0\", 115200, timeout=1)\n",
    "    try:\n",
    "        anIn.configure(True, True)\n",
    "        dev.triggerPC()\n",
    "        ser.write(b'p')\n",
    "\n",
    "        samples = []\n",
    "        while True:\n",
    "            status = anIn.status(True)\n",
    "            if status in [pydwf.DwfState.Armed, pydwf.DwfState.Ready]:\n",
    "                continue\n",
    "            aSamples, lost, corrupt = anIn.statusRecord()\n",
    "\n",
    "            if aSamples != 0:\n",
    "                # cSamples = anIn.statusData(inCH, aSamples)\n",
    "                cSamples = np.vstack(\n",
    "                            [anIn.statusData(idx, aSamples)\n",
    "                             for idx in inCH]).transpose()\n",
    "                samples.append(cSamples)\n",
    "\n",
    "            nSamples = sum(len(x) for x in samples)\n",
    "            print(f\"\\r\\033[K{i:>4}:  {100*nSamples/inNSamples: >4.2f}% {aSamples: >5} {nSamples: >9}\", end=\"\")\n",
    "\n",
    "            if status == pydwf.DwfState.Done and nSamples >= inNSamples:\n",
    "                break\n",
    "\n",
    "        samples = np.concatenate(samples)[-inNSamples:]\n",
    "        data[\"data\"].append(samples.tolist())\n",
    "        \n",
    "    finally:\n",
    "        ser.close()\n",
    "\n",
    "# plt.close(\"all\")\n",
    "# fig, axd = plt.subplot_mosaic([\n",
    "#     [\"t\"],\n",
    "#     [\"b\"]\n",
    "# ], sharex=True)\n",
    "\n",
    "# x = np.arange(inNSamples) / inFreq\n",
    "# for samples in data[\"data\"]:\n",
    "#     samples = np.array(samples)\n",
    "#     axd[\"t\"].plot(x, samples[:,1], c=\"C0\", alpha=0.2)\n",
    "#     axd[\"b\"].scatter(x, samples[:,0], c=\"C1\", alpha=0.2)\n",
    "\n",
    "with open(outpath, \"w+\") as fd:\n",
    "    json.dump(data, fd)\n",
    "    \n",
    "!espeak done"
   ]
  },
  {
   "cell_type": "markdown",
   "id": "50ba3b46-f001-41f5-94ca-bf069186d91a",
   "metadata": {},
   "source": [
    "# Close AD2 Device"
   ]
  },
  {
   "cell_type": "code",
   "execution_count": null,
   "id": "c8e429ad-216d-4ffd-8f54-f2d669346fde",
   "metadata": {},
   "outputs": [],
   "source": [
    "dev.close()"
   ]
  }
 ],
 "metadata": {
  "kernelspec": {
   "display_name": "Python 3 (ipykernel)",
   "language": "python",
   "name": "python3"
  },
  "language_info": {
   "codemirror_mode": {
    "name": "ipython",
    "version": 3
   },
   "file_extension": ".py",
   "mimetype": "text/x-python",
   "name": "python",
   "nbconvert_exporter": "python",
   "pygments_lexer": "ipython3",
   "version": "3.9.11"
  }
 },
 "nbformat": 4,
 "nbformat_minor": 5
}
