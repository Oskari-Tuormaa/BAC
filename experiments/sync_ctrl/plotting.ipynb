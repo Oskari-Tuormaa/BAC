{
 "cells": [
  {
   "cell_type": "code",
   "execution_count": 1,
   "id": "5ee280dd-421c-4977-92a5-ee6bdeba59dc",
   "metadata": {},
   "outputs": [],
   "source": [
    "import matplotlib.pyplot as plt\n",
    "import numpy as np\n",
    "import json\n",
    "import pint\n",
    "from pathlib import Path\n",
    "\n",
    "ureg = pint.UnitRegistry()\n",
    "# %matplotlib widget"
   ]
  },
  {
   "cell_type": "code",
   "execution_count": 2,
   "id": "d1f39cf4-8c8d-44ca-9d0b-35231c443e83",
   "metadata": {
    "tags": []
   },
   "outputs": [],
   "source": [
    "def get_zero_crosses(inp, thresh):\n",
    "    inpcross = inp > thresh\n",
    "    inpcross = (inpcross[:-1] ^ inpcross[1:]).nonzero()[0]\n",
    "    return inpcross[1:], inpcross[1:] - inpcross[:-1]"
   ]
  },
  {
   "cell_type": "code",
   "execution_count": 3,
   "id": "5bb6635f-eaae-41ca-866f-54fb98fcb172",
   "metadata": {},
   "outputs": [],
   "source": [
    "def rolling_average(data, n):\n",
    "    return np.convolve(data, [1]*n, mode=\"same\") / n"
   ]
  },
  {
   "cell_type": "code",
   "execution_count": 4,
   "id": "65e579c7-f65f-43bc-ac9e-a17e57a4cad0",
   "metadata": {},
   "outputs": [],
   "source": [
    "def find_local_minima(data: np.array, n_window: int, thresh: float = 0.1):\n",
    "    def _len(dat, val):\n",
    "        return (dat != val).nonzero()[0][0]\n",
    "    minima = []\n",
    "    for i in range(len(data)-n_window):\n",
    "        s = data[i:i+n_window]\n",
    "        if s.argmin() == n_window//2 and abs(s.max() - s.min()) > thresh:\n",
    "            ii = i + n_window//2\n",
    "            # Shift to be at center of similar values\n",
    "            minima.append(ii + _len(data[ii:], s.min())//2)\n",
    "    return minima"
   ]
  },
  {
   "cell_type": "code",
   "execution_count": 5,
   "id": "41114246-f9f3-498f-9145-1327668f80b4",
   "metadata": {},
   "outputs": [],
   "source": [
    "def find_edges(data: np.array, thresh: float):\n",
    "    def _len_and_mag(d):\n",
    "        try:\n",
    "            iend = (d < 0).nonzero()[0][0]\n",
    "            return iend, d.cumsum()[iend]\n",
    "        except IndexError:\n",
    "            return 1, 0\n",
    "    \n",
    "    ddata = data[1:] - data[:-1]\n",
    "    edges = []\n",
    "    i = 0\n",
    "    while i < len(ddata):\n",
    "        if ddata[i] > 0:\n",
    "            l, m = _len_and_mag(ddata[i:])\n",
    "            if m > thresh:\n",
    "                edges.append(i)\n",
    "            i += l\n",
    "        else:\n",
    "            i += 1\n",
    "    return edges"
   ]
  },
  {
   "cell_type": "code",
   "execution_count": 6,
   "id": "50c7a73a-e755-43ae-a410-cb0aa7651e27",
   "metadata": {},
   "outputs": [],
   "source": [
    "def calc_dist(d1, d2, fs):\n",
    "    ## Find large edges in ctrl\n",
    "    edges = find_edges(d1, 15)\n",
    "    \n",
    "    ## Clip d2 to threshold\n",
    "    dd2 = d2[1:] - d2[:-1]\n",
    "    ithr = (abs(dd2) > 0.1).nonzero()[0][0]\n",
    "    _d2 = d2[ithr:]\n",
    "    \n",
    "    ## Get minima of zero cross timings\n",
    "    cross, crossD = get_zero_crosses(_d2, 1.635)\n",
    "    crossD_avr = rolling_average(crossD, 6)\n",
    "    minima = np.array([cross[i] for i in find_local_minima(crossD_avr, 10, 0.1)])\n",
    "    \n",
    "    T1 = (minima[0] - edges[1] + ithr) / fs\n",
    "    T2 = (minima[1] - edges[3] + ithr) / fs\n",
    "    T3 = (minima[2] - edges[5] + ithr) / fs\n",
    "    T = (T1 + T2 + T3) / 3\n",
    "    return T * 343\n",
    "\n",
    "# calc_dist(datin, datout, 1e6)"
   ]
  },
  {
   "cell_type": "code",
   "execution_count": 7,
   "id": "7387092e-67d0-4dcb-bccb-645a1607d4c8",
   "metadata": {},
   "outputs": [
    {
     "name": "stdout",
     "output_type": "stream",
     "text": [
      "data/20v/short_v2/110.66cm_220508-153655.json\n",
      "data/20v/short_v2/120.24cm_220508-153434.json\n",
      "data/20v/short_v2/107.46cm_220508-153743.json\n",
      "data/20v/short_v2/112.22cm_220508-153613.json\n",
      "data/20v/short_v2/119.96cm_220508-153519.json\n",
      "data/20v/short_v2/120.52cm_220508-153221.json\n"
     ]
    }
   ],
   "source": [
    "inpath = Path(\"data/20v/short_v2\")\n",
    "\n",
    "rdata = []\n",
    "for f in inpath.glob(\"*.json\"):\n",
    "    print(f)\n",
    "    with open(f, \"r\") as fd:\n",
    "        rdata.append(json.loads(fd.read()))"
   ]
  },
  {
   "cell_type": "code",
   "execution_count": 8,
   "id": "26034b82-27bf-4f38-9321-a72aa059fce7",
   "metadata": {},
   "outputs": [
    {
     "name": "stdout",
     "output_type": "stream",
     "text": [
      "110.66\n",
      "120.24\n",
      "107.46\n",
      "112.22\n",
      "119.96\n",
      "120.52\n"
     ]
    }
   ],
   "source": [
    "res = dict()\n",
    "for dat in rdata:\n",
    "    fs = dat[\"fs\"]\n",
    "    dist = dat[\"dist\"]\n",
    "    data = np.array(dat[\"data\"])\n",
    "    print(dist)\n",
    "    \n",
    "    distances = []\n",
    "    for i, d in enumerate(data):\n",
    "        ch1, ch2 = d.T\n",
    "        distances.append(calc_dist(ch2, ch1, fs))\n",
    "    distances = np.array(distances)\n",
    "    res[dist] = distances"
   ]
  },
  {
   "cell_type": "code",
   "execution_count": 12,
   "id": "fb0e53c3-212b-41a5-8c28-5e9497f1597e",
   "metadata": {},
   "outputs": [
    {
     "data": {
      "image/png": "[encoded data removed]",
      "text/plain": [
       "<Figure size 720x360 with 1 Axes>"
      ]
     },
     "metadata": {
      "needs_background": "light"
     },
     "output_type": "display_data"
    }
   ],
   "source": [
    "plt.close(\"all\")\n",
    "fig, ax = plt.subplots(figsize=(10,5))\n",
    "\n",
    "keys = sorted(res.keys())\n",
    "data = np.array([1000*res[k] for k in keys])\n",
    "meds = np.median(data, 1)\n",
    "data += min(keys) - min(meds)\n",
    "ax.boxplot(data.T, labels=keys, showfliers=False);\n",
    "# ax.set_xticklabels(keys, rotation=45);\n",
    "ax.set_xlabel(\"Real distance [mm]\")\n",
    "ax.set_ylabel(\"Measured distance [mm]\")\n",
    "fig.savefig(\"plot/boxplot.pdf\")"
   ]
  },
  {
   "cell_type": "code",
   "execution_count": 10,
   "id": "f2d0e560-5b8f-4c72-9b17-8595f80b0f54",
   "metadata": {},
   "outputs": [
    {
     "data": {
      "image/png": "[encoded data removed]",
      "text/plain": [
       "<Figure size 720x216 with 4 Axes>"
      ]
     },
     "metadata": {
      "needs_background": "light"
     },
     "output_type": "display_data"
    }
   ],
   "source": [
    "inpath = Path(\"data/long/300cm_220508-132854.json\")\n",
    "plt.close(\"all\")\n",
    "with open(inpath, \"r\") as fd:\n",
    "    raw_data = json.load(fd)\n",
    "fs = raw_data[\"fs\"]\n",
    "data = np.array(raw_data[\"data\"])\n",
    "\n",
    "plt.close(\"all\")\n",
    "fig, axd = plt.subplot_mosaic([\n",
    "    [\"t\"], [\"b\"], [\"bb\"], [\"bbb\"]\n",
    "], sharex=True)\n",
    "\n",
    "for idx, dat in enumerate(data[:1]):\n",
    "    datin = dat[1:,1]\n",
    "    datout = dat[1:,0]\n",
    "    \n",
    "    datinedge = abs(datin[:-1] - datin[1:])\n",
    "    sidx = (datinedge > 0.1).nonzero()[0][0]\n",
    "    \n",
    "    datin  =  datin[sidx:]\n",
    "    datout = datout[sidx:]\n",
    "\n",
    "    x = np.arange(len(datin)) / fs\n",
    "\n",
    "    ithresh = (datout > 1.635+0.5).nonzero()[0][0] - 50\n",
    "    doutth = datout[ithresh:ithresh+1000]\n",
    "    cross, crossD = get_zero_crosses(doutth, 1.635)\n",
    "    crossD_f = rolling_average(crossD, 6)\n",
    "    minima = [cross[i]/fs for i in find_local_minima(crossD_f, 10, 0.1)]\n",
    "    cross += ithresh\n",
    "    \n",
    "    edges = find_edges(datin[:1500], 15)\n",
    "\n",
    "    axd[\"t\"]  .plot(x,        datin,    'o-', c=f\"C0\", alpha=0.5, markersize=1)\n",
    "    axd[\"b\"]  .plot(x,        datout,   'o-', c=f\"C1\", alpha=0.5, markersize=1)\n",
    "    axd[\"bb\"] .plot(cross/fs, crossD,   'o',  c=f\"C2\", alpha=0.5, markersize=1)\n",
    "    axd[\"bbb\"].plot(cross/fs, crossD_f, 'o',  c=f\"C3\", alpha=0.5, markersize=1)\n",
    "    \n",
    "    for e in edges:\n",
    "        axd[\"t\"].axvline(e/fs, c=\"C1\")\n",
    "    for m in minima:\n",
    "        axd[\"bbb\"].axvline(m+ithresh/fs, c=\"C2\")"
   ]
  }
 ],
 "metadata": {
  "kernelspec": {
   "display_name": "Python 3 (ipykernel)",
   "language": "python",
   "name": "python3"
  },
  "language_info": {
   "codemirror_mode": {
    "name": "ipython",
    "version": 3
   },
   "file_extension": ".py",
   "mimetype": "text/x-python",
   "name": "python",
   "nbconvert_exporter": "python",
   "pygments_lexer": "ipython3",
   "version": "3.9.11"
  }
 },
 "nbformat": 4,
 "nbformat_minor": 5
}
