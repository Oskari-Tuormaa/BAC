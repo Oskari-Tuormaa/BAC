{
 "cells": [
  {
   "cell_type": "markdown",
   "id": "882ba515-8449-41b9-9fbb-7ac238a9d7e2",
   "metadata": {
    "tags": []
   },
   "source": [
    "# ESP32 Serial Port"
   ]
  },
  {
   "cell_type": "code",
   "execution_count": 15,
   "id": "cb94f019-a0e6-4e38-ae35-8bf4a156df94",
   "metadata": {},
   "outputs": [],
   "source": [
    "import serial\n",
    "import time"
   ]
  },
  {
   "cell_type": "code",
   "execution_count": 16,
   "id": "7ddf3b90-e7c9-402e-8d6a-03bfa898d519",
   "metadata": {},
   "outputs": [],
   "source": [
    "# Set port to use\n",
    "port = serial.Serial(\"/dev/ttyUSB0\", 115200, timeout=1)"
   ]
  },
  {
   "cell_type": "code",
   "execution_count": 17,
   "id": "16b6c006-a3b4-4f24-b66c-e26d1b68af9c",
   "metadata": {},
   "outputs": [],
   "source": [
    "def command(cmd, data = None):\n",
    "    dat = bytearray(1)\n",
    "    dat[0] = cmd\n",
    "    if data is not None:\n",
    "        if isinstance(data, bytes):\n",
    "            dat += data\n",
    "        else:\n",
    "            data: int\n",
    "            dat += data.to_bytes(1, \"big\")\n",
    "    dat += b'\\x00'\n",
    "    \n",
    "    with port as ser:\n",
    "        ser.write(dat)\n",
    "        n_bytes = int.from_bytes(ser.read(2), \"little\")\n",
    "        n_pack = int.from_bytes(ser.read(2), \"little\")\n",
    "        if n_pack == 1:\n",
    "            yield ser.read(n_bytes)\n",
    "        else:\n",
    "            for _ in range(n_pack):\n",
    "                yield ser.read(n_bytes)"
   ]
  },
  {
   "cell_type": "markdown",
   "id": "5ce2caaa-cfac-4f74-b8f5-596639ece10c",
   "metadata": {
    "tags": []
   },
   "source": [
    "# AD2 Setup"
   ]
  },
  {
   "cell_type": "code",
   "execution_count": 18,
   "id": "db17e3f5-09a0-49a8-9af5-6fde154bc99f",
   "metadata": {},
   "outputs": [],
   "source": [
    "import pydwf\n",
    "import pydwf.utilities"
   ]
  },
  {
   "cell_type": "markdown",
   "id": "50951427-5375-4610-87d6-2c3d1f955ba7",
   "metadata": {
    "tags": []
   },
   "source": [
    "## Open device"
   ]
  },
  {
   "cell_type": "code",
   "execution_count": 20,
   "id": "780530ee-6ca5-47d4-8cad-0285617a81df",
   "metadata": {},
   "outputs": [
    {
     "ename": "DwfLibraryError",
     "evalue": "DWF Library Error 'UnknownError' (1): 'The device is being used by another application SERC: 0x3E9\\nDjtgEnable failed.\\nDevice programming failed.'",
     "output_type": "error",
     "traceback": [
      "\u001b[0;31m---------------------------------------------------------------------------\u001b[0m",
      "\u001b[0;31mDwfLibraryError\u001b[0m                           Traceback (most recent call last)",
      "Input \u001b[0;32mIn [20]\u001b[0m, in \u001b[0;36m<cell line: 5>\u001b[0;34m()\u001b[0m\n\u001b[1;32m      2\u001b[0m     \u001b[38;5;28;01mreturn\u001b[39;00m x[pydwf\u001b[38;5;241m.\u001b[39mDwfEnumConfigInfo\u001b[38;5;241m.\u001b[39mAnalogInBufferSize]\n\u001b[1;32m      4\u001b[0m dwf \u001b[38;5;241m=\u001b[39m pydwf\u001b[38;5;241m.\u001b[39mDwfLibrary()\n\u001b[0;32m----> 5\u001b[0m dev \u001b[38;5;241m=\u001b[39m \u001b[43mpydwf\u001b[49m\u001b[38;5;241;43m.\u001b[39;49m\u001b[43mutilities\u001b[49m\u001b[38;5;241;43m.\u001b[39;49m\u001b[43mopenDwfDevice\u001b[49m\u001b[43m(\u001b[49m\u001b[43mdwf\u001b[49m\u001b[43m,\u001b[49m\n\u001b[1;32m      6\u001b[0m \u001b[43m    \u001b[49m\u001b[43mscore_func\u001b[49m\u001b[38;5;241;43m=\u001b[39;49m\u001b[43mscorefunc\u001b[49m\n\u001b[1;32m      7\u001b[0m \u001b[43m)\u001b[49m\n",
      "File \u001b[0;32m~/prog/anaconda3/envs/dwf/lib/python3.9/site-packages/pydwf/utilities/open_dwf_device.py:165\u001b[0m, in \u001b[0;36mopenDwfDevice\u001b[0;34m(dwf, enum_filter, serial_number_filter, score_func)\u001b[0m\n\u001b[1;32m    162\u001b[0m \u001b[38;5;28;01mif\u001b[39;00m best_configuration_index \u001b[38;5;129;01mis\u001b[39;00m \u001b[38;5;28;01mNone\u001b[39;00m:\n\u001b[1;32m    163\u001b[0m     \u001b[38;5;28;01mraise\u001b[39;00m PyDwfError(\u001b[38;5;124m\"\u001b[39m\u001b[38;5;124mNo acceptable configuration was found.\u001b[39m\u001b[38;5;124m\"\u001b[39m)\n\u001b[0;32m--> 165\u001b[0m \u001b[38;5;28;01mreturn\u001b[39;00m \u001b[43mdwf\u001b[49m\u001b[38;5;241;43m.\u001b[39;49m\u001b[43mdeviceControl\u001b[49m\u001b[38;5;241;43m.\u001b[39;49m\u001b[43mopen\u001b[49m\u001b[43m(\u001b[49m\u001b[43mdevice_index\u001b[49m\u001b[43m,\u001b[49m\u001b[43m \u001b[49m\u001b[43mbest_configuration_index\u001b[49m\u001b[43m)\u001b[49m\n",
      "File \u001b[0;32m~/prog/anaconda3/envs/dwf/lib/python3.9/site-packages/pydwf/core/api/device_control.py:62\u001b[0m, in \u001b[0;36mDeviceControl.open\u001b[0;34m(self, device_index, config_index)\u001b[0m\n\u001b[1;32m     60\u001b[0m     result \u001b[38;5;241m=\u001b[39m \u001b[38;5;28mself\u001b[39m\u001b[38;5;241m.\u001b[39mlib\u001b[38;5;241m.\u001b[39mFDwfDeviceConfigOpen(device_index, config_index, c_hdwf)\n\u001b[1;32m     61\u001b[0m \u001b[38;5;28;01mif\u001b[39;00m result \u001b[38;5;241m!=\u001b[39m RESULT_SUCCESS:\n\u001b[0;32m---> 62\u001b[0m     \u001b[38;5;28;01mraise\u001b[39;00m \u001b[38;5;28mself\u001b[39m\u001b[38;5;241m.\u001b[39mdwf\u001b[38;5;241m.\u001b[39mexception()\n\u001b[1;32m     63\u001b[0m hdwf \u001b[38;5;241m=\u001b[39m c_hdwf\u001b[38;5;241m.\u001b[39mvalue\n\u001b[1;32m     64\u001b[0m \u001b[38;5;28;01mreturn\u001b[39;00m DwfDevice(\u001b[38;5;28mself\u001b[39m\u001b[38;5;241m.\u001b[39mdwf, hdwf)\n",
      "\u001b[0;31mDwfLibraryError\u001b[0m: DWF Library Error 'UnknownError' (1): 'The device is being used by another application SERC: 0x3E9\\nDjtgEnable failed.\\nDevice programming failed.'"
     ]
    }
   ],
   "source": [
    "def scorefunc(x):\n",
    "    return x[pydwf.DwfEnumConfigInfo.AnalogInBufferSize]\n",
    "\n",
    "dwf = pydwf.DwfLibrary()\n",
    "dev = pydwf.utilities.openDwfDevice(dwf,\n",
    "    score_func=scorefunc\n",
    ")"
   ]
  },
  {
   "cell_type": "markdown",
   "id": "f2379524-4d93-47b4-9796-427d1460473e",
   "metadata": {
    "tags": []
   },
   "source": [
    "## Setup Device"
   ]
  },
  {
   "cell_type": "markdown",
   "id": "e683d06e-73e4-4e5f-b4b1-04cd5688a33a",
   "metadata": {
    "tags": []
   },
   "source": [
    "### Setup Input"
   ]
  },
  {
   "cell_type": "code",
   "execution_count": null,
   "id": "4fdb653b-ce82-4d66-b46f-72a4bbae759b",
   "metadata": {},
   "outputs": [],
   "source": [
    "## Settings\n",
    "inCH = [0, 1]\n",
    "inFreq = 1e6\n",
    "inRecordLen = 10e-3\n",
    "inNSamples = int(inFreq * inRecordLen)\n",
    "\n",
    "# Get and reset each input channel\n",
    "anIn = dev.analogIn\n",
    "anIn.reset()\n",
    "for CH in inCH:\n",
    "    anIn.channelEnableSet(CH, True)\n",
    "    \n",
    "# Set range and offset for best resolution\n",
    "anIn.channelRangeSet(0, 30)\n",
    "anIn.channelOffsetSet(0, 0)\n",
    "anIn.channelRangeSet(1, 3.5)\n",
    "anIn.channelOffsetSet(1, 1.65)\n",
    "\n",
    "# Set acquisition mode and settings\n",
    "anIn.acquisitionModeSet(pydwf.DwfAcquisitionMode.Record)\n",
    "anIn.frequencySet(inFreq)\n",
    "anIn.recordLengthSet(inRecordLen)\n",
    "anIn.triggerSourceSet(pydwf.DwfTriggerSource.PC)\n",
    "time.sleep(1)"
   ]
  },
  {
   "cell_type": "markdown",
   "id": "da332f5b-3b04-4bb0-926d-fec7913fc78f",
   "metadata": {
    "tags": []
   },
   "source": [
    "### Setup Supply"
   ]
  },
  {
   "cell_type": "code",
   "execution_count": null,
   "id": "226f4ebe-17ea-4ea1-add5-995b3014a974",
   "metadata": {},
   "outputs": [],
   "source": [
    "supplyV = 5\n",
    "\n",
    "anIO = dev.analogIO\n",
    "anIO.reset()\n",
    "anIO.enableSet(True)\n",
    "anIO.channelNodeSet(0, 0, True) # Enable positive supply\n",
    "anIO.channelNodeSet(0, 1, supplyV) # Set positive supply voltage\n",
    "anIO.configure()"
   ]
  },
  {
   "cell_type": "markdown",
   "id": "0db3f381-7fe3-4a4b-b8e9-f831c880d39a",
   "metadata": {
    "tags": []
   },
   "source": [
    "## Data reading method"
   ]
  },
  {
   "cell_type": "code",
   "execution_count": null,
   "id": "bb5f4187-0ae9-4374-b779-1742d93a0805",
   "metadata": {},
   "outputs": [],
   "source": [
    "import numpy as np"
   ]
  },
  {
   "cell_type": "code",
   "execution_count": null,
   "id": "fd327e67-b591-4cc4-960b-bda91b0444bf",
   "metadata": {},
   "outputs": [],
   "source": [
    "def read_data(nAcq):\n",
    "    samples = []\n",
    "    while True:\n",
    "        status = anIn.status(True)\n",
    "        if status in [pydwf.DwfState.Armed, pydwf.DwfState.Ready]:\n",
    "            continue\n",
    "        aSamples, _, _ = anIn.statusRecord()\n",
    "\n",
    "        if aSamples != 0:\n",
    "            cSamples = np.vstack(\n",
    "                        [anIn.statusData(idx, aSamples)\n",
    "                         for idx in inCH]).transpose()\n",
    "            samples.append(cSamples)\n",
    "\n",
    "        nSamples = sum(len(x) for x in samples)\n",
    "        print(f\"\\r\\033[K{100*nSamples/nAcq: >4.2f}% {aSamples: >5} {nSamples: >9}\", end=\"\")\n",
    "\n",
    "        if status == pydwf.DwfState.Done and nSamples >= nAcq:\n",
    "            break\n",
    "\n",
    "    samples = np.concatenate(samples)[-nAcq:]\n",
    "    return samples"
   ]
  },
  {
   "cell_type": "markdown",
   "id": "0c8c4a84-2f66-44a5-b686-6d9bf713af7a",
   "metadata": {},
   "source": [
    "# Acquire data"
   ]
  },
  {
   "cell_type": "code",
   "execution_count": null,
   "id": "d8c90e6b-f545-4dcd-8d13-02459e17fbf8",
   "metadata": {},
   "outputs": [],
   "source": [
    "import matplotlib.pyplot as plt\n",
    "import json\n",
    "import datetime"
   ]
  },
  {
   "cell_type": "markdown",
   "id": "aac74bf2-844c-49fb-b635-d9fb38208431",
   "metadata": {},
   "source": [
    "## Single measurement and plot"
   ]
  },
  {
   "cell_type": "code",
   "execution_count": null,
   "id": "c9a133d3-fbfb-4510-89a1-e0f170568487",
   "metadata": {},
   "outputs": [],
   "source": [
    "# Set APESW parameters\n",
    "list(command(3, b\"\\x03\\x06\"))\n",
    "\n",
    "# Start and trigger AD2\n",
    "anIn.configure(True, True)\n",
    "dev.triggerPC()\n",
    "\n",
    "# Send pulse command to ESP32\n",
    "list(command(4))\n",
    "\n",
    "data = read_data(inNSamples)\n",
    "plt.plot(data)"
   ]
  },
  {
   "cell_type": "markdown",
   "id": "aa33d1a8-c1f5-4bd7-a33a-ea3e4f8dd6cd",
   "metadata": {},
   "source": [
    "## Parameter sweeps"
   ]
  },
  {
   "cell_type": "code",
   "execution_count": null,
   "id": "20ab2820-7600-4ce5-a63e-9bcf83eba3ba",
   "metadata": {},
   "outputs": [],
   "source": [
    "data = []\n",
    "for n_inv in range(1, 7):\n",
    "    for n_warm in range(1, 7):\n",
    "        data_point = {\"n_inv\": n_inv, \"n_warm\": n_warm}\n",
    "        \n",
    "        # Set APESW parameters\n",
    "        list(command(3, int.to_bytes(n_inv, 1, \"little\") + int.to_bytes(n_warm, 1, \"little\")))\n",
    "        \n",
    "        # Start and trigger AD2\n",
    "        anIn.configure(True, True)\n",
    "        dev.triggerPC()\n",
    "        \n",
    "        # Send pulse command to ESP32\n",
    "        list(command(4))\n",
    "        \n",
    "        data_point[\"data\"] = read_data(inNSamples)\n",
    "        data.append(data_point)"
   ]
  },
  {
   "cell_type": "markdown",
   "id": "6a738e16-eded-43e1-96ed-e90895a740ec",
   "metadata": {},
   "source": [
    "## Plot parameter sweeps"
   ]
  },
  {
   "cell_type": "code",
   "execution_count": null,
   "id": "c274934b-652d-4f79-aac8-9783f9fb70fb",
   "metadata": {},
   "outputs": [],
   "source": [
    "plt.close(\"all\")\n",
    "for dpoint in data:\n",
    "    fig, ax = plt.subplots()\n",
    "    ax.plot(dpoint[\"data\"])\n",
    "    \n",
    "    plt.title(f\"$n_{{inv}} = {dpoint['n_inv']} \\quad n_{{warm}} = {dpoint['n_warm']}$\")\n",
    "    # break"
   ]
  }
 ],
 "metadata": {
  "kernelspec": {
   "display_name": "Python 3 (ipykernel)",
   "language": "python",
   "name": "python3"
  },
  "language_info": {
   "codemirror_mode": {
    "name": "ipython",
    "version": 3
   },
   "file_extension": ".py",
   "mimetype": "text/x-python",
   "name": "python",
   "nbconvert_exporter": "python",
   "pygments_lexer": "ipython3",
   "version": "3.9.11"
  }
 },
 "nbformat": 4,
 "nbformat_minor": 5
}
