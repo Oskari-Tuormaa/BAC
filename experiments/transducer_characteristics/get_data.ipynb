{
 "cells": [
  {
   "cell_type": "code",
   "execution_count": 1,
   "id": "9cf1650e-5078-45d8-b71a-0c166f34c881",
   "metadata": {},
   "outputs": [],
   "source": [
    "import pydwf\n",
    "import pydwf.utilities\n",
    "import numpy as np\n",
    "import matplotlib.pyplot as plt\n",
    "import time\n",
    "from scipy.signal import butter, lfilter\n",
    "import datetime\n",
    "from pathlib import Path\n",
    "\n",
    "%matplotlib widget"
   ]
  },
  {
   "cell_type": "markdown",
   "id": "69991440-fec2-4d61-b5ce-6962a9d9f30a",
   "metadata": {},
   "source": [
    "## Open device"
   ]
  },
  {
   "cell_type": "code",
   "execution_count": 2,
   "id": "d7a3b3fa-2dd6-49bf-a110-842624892fdf",
   "metadata": {},
   "outputs": [],
   "source": [
    "## Open device\n",
    "dwf = pydwf.DwfLibrary()\n",
    "dev = dwf.deviceControl.open(-1)"
   ]
  },
  {
   "cell_type": "markdown",
   "id": "352b7457-c148-4e41-9419-2a1437c5ef9c",
   "metadata": {},
   "source": [
    "## Setup output"
   ]
  },
  {
   "cell_type": "code",
   "execution_count": 3,
   "id": "1561902c-a5b2-48f9-898f-b039b4469896",
   "metadata": {},
   "outputs": [],
   "source": [
    "## Analog output settings\n",
    "outCH = 0\n",
    "\n",
    "## Setup analogOut\n",
    "anOut = dev.analogOut\n",
    "node = pydwf.DwfAnalogOutNode.Carrier\n",
    "anOut.reset(outCH)\n",
    "anOut.nodeEnableSet(outCH, node, True)\n",
    "anOut.nodeFunctionSet(outCH, node, pydwf.DwfAnalogOutFunction.Sine)\n",
    "anOut.nodeAmplitudeSet(outCH, node, 5)\n",
    "\n",
    "def set_output_freq(freq: float):\n",
    "    anOut.nodeFrequencySet(outCH, node, freq)"
   ]
  },
  {
   "cell_type": "markdown",
   "id": "dcb82f5b-b709-49f8-9d47-be96fcf4e0fa",
   "metadata": {},
   "source": [
    "## Setup input"
   ]
  },
  {
   "cell_type": "code",
   "execution_count": 4,
   "id": "656a5b9a-3ff4-47ea-a596-d9df5e5b54fe",
   "metadata": {},
   "outputs": [],
   "source": [
    "## Analog input settings\n",
    "inCH = [0, 1]\n",
    "inFreq = 1e6\n",
    "inRecordLen = 0.01\n",
    "inNSamples = int(inFreq * inRecordLen)\n",
    "\n",
    "## Setup analogIn\n",
    "anIn = dev.analogIn\n",
    "anIn.reset()\n",
    "for CH in inCH:\n",
    "    anIn.channelEnableSet(CH, True)\n",
    "anIn.acquisitionModeSet(pydwf.DwfAcquisitionMode.Record)\n",
    "anIn.frequencySet(inFreq)\n",
    "anIn.recordLengthSet(inRecordLen)\n",
    "time.sleep(2)  # Sleep to allow offset to stabilize"
   ]
  },
  {
   "cell_type": "markdown",
   "id": "fe3c9a4a-6a84-438d-b03a-77098dcda34f",
   "metadata": {},
   "source": [
    "## Read data"
   ]
  },
  {
   "cell_type": "code",
   "execution_count": 45,
   "id": "63597d3f-58d2-4bc4-9436-7931d64fa2d7",
   "metadata": {},
   "outputs": [
    {
     "name": "stdout",
     "output_type": "stream",
     "text": [
      "\u001b[K  65000.00 100.02%  2187     10002\n"
     ]
    }
   ],
   "source": [
    "now = datetime.datetime.now()\n",
    "for freq in np.linspace(35e3, 65e3, 100):\n",
    "    ## Start analogOut and analogIn\n",
    "    set_output_freq(freq)\n",
    "    anOut.configure(outCH, 1)\n",
    "    time.sleep(0.1)\n",
    "    anIn.configure(True, True)\n",
    "\n",
    "    ## Read data from analogIn\n",
    "    samples = []\n",
    "    while True:\n",
    "        status = anIn.status(True)\n",
    "        if status in [pydwf.DwfState.Armed, pydwf.DwfState.Ready]:\n",
    "            continue\n",
    "        aSamples, _, _ = anIn.statusRecord()\n",
    "\n",
    "        if aSamples != 0:\n",
    "            cSamples = np.vstack(\n",
    "                        [anIn.statusData(idx, aSamples)\n",
    "                         for idx in inCH]).transpose()\n",
    "            samples.append(cSamples)\n",
    "\n",
    "        nSamples = sum(len(x) for x in samples)\n",
    "        print(f\"\\r\\033[K{freq:10.2f} {100*nSamples/inNSamples: >4.2f}% {aSamples: >5} {nSamples: >9}\", end=\"\")\n",
    "\n",
    "        if status == pydwf.DwfState.Done and nSamples >= inNSamples:\n",
    "            break\n",
    "\n",
    "    ## Concatenate all sample chunks\n",
    "    samples = np.concatenate(samples)\n",
    "\n",
    "    ## Discard oldest samples\n",
    "    samples = samples[-inNSamples:]\n",
    "\n",
    "    out_path = Path(\"data\", \"T4P1\", f\"data_{freq}.csv\")\n",
    "    out_path.parent.mkdir(parents=True, exist_ok=True)\n",
    "    np.savetxt(out_path, samples, delimiter=\",\")\n",
    "    \n",
    "# Stop output\n",
    "anOut.configure(-1, 0)\n",
    "print()"
   ]
  },
  {
   "cell_type": "markdown",
   "id": "48331ae7-578d-486b-8b6e-591966c9cabf",
   "metadata": {},
   "source": [
    "## Close device"
   ]
  },
  {
   "cell_type": "code",
   "execution_count": null,
   "id": "4594eefb-4336-4bcc-a23c-6b764f09f481",
   "metadata": {},
   "outputs": [],
   "source": [
    "dev.close()"
   ]
  }
 ],
 "metadata": {
  "kernelspec": {
   "display_name": "Python 3 (ipykernel)",
   "language": "python",
   "name": "python3"
  },
  "language_info": {
   "codemirror_mode": {
    "name": "ipython",
    "version": 3
   },
   "file_extension": ".py",
   "mimetype": "text/x-python",
   "name": "python",
   "nbconvert_exporter": "python",
   "pygments_lexer": "ipython3",
   "version": "3.9.11"
  }
 },
 "nbformat": 4,
 "nbformat_minor": 5
}
